{
  "nbformat": 4,
  "nbformat_minor": 0,
  "metadata": {
    "colab": {
      "name": "Fase1R.ipynb",
      "provenance": [],
      "include_colab_link": true
    },
    "kernelspec": {
      "name": "ir",
      "display_name": "R"
    }
  },
  "cells": [
    {
      "cell_type": "markdown",
      "metadata": {
        "id": "view-in-github",
        "colab_type": "text"
      },
      "source": [
        "<a href=\"https://colab.research.google.com/github/danilo8br/Calculadora/blob/master/Semana-2-R-Maratona-Data-Science/Laborat%C3%B3rio/Fase1R.ipynb\" target=\"_parent\"><img src=\"https://colab.research.google.com/assets/colab-badge.svg\" alt=\"Open In Colab\"/></a>"
      ]
    },
    {
      "cell_type": "markdown",
      "metadata": {
        "id": "Z2Kl9pfj0JKM",
        "colab_type": "text"
      },
      "source": [
        "# Seja ensinável e execute as tarefas compartilhadas. Por fins didáticos e para melhor separação mental das sintaxes Python/R, realizaremos todos os exercícios de Python em R.\n",
        "![alt text](https://media.giphy.com/media/d3mlE7uhX8KFgEmY/200.gif)"
      ]
    },
    {
      "cell_type": "markdown",
      "metadata": {
        "id": "j9ZuOU7Kyh9O",
        "colab_type": "text"
      },
      "source": [
        "Crie um algoritmo em R que mostre a mensagem \"Alo mundo\" na tela."
      ]
    },
    {
      "cell_type": "code",
      "metadata": {
        "id": "tlFupLd-ydTB",
        "colab_type": "code",
        "colab": {
          "base_uri": "https://localhost:8080/",
          "height": 34
        },
        "outputId": "c4944cc9-86d4-4f5c-9b38-d37918e8d8fc"
      },
      "source": [
        "print('Alo Mundo')"
      ],
      "execution_count": 1,
      "outputs": [
        {
          "output_type": "stream",
          "text": [
            "[1] \"Alo Mundo\"\n"
          ],
          "name": "stdout"
        }
      ]
    },
    {
      "cell_type": "markdown",
      "metadata": {
        "id": "yhw2owA-zbrn",
        "colab_type": "text"
      },
      "source": [
        "Crie um algoritmo em R que peça dois números e imprima a soma."
      ]
    },
    {
      "cell_type": "code",
      "metadata": {
        "id": "RJJtXkvV0qzj",
        "colab_type": "code",
        "colab": {
          "base_uri": "https://localhost:8080/",
          "height": 68
        },
        "outputId": "423ffe50-ec4f-4b50-fad5-f0410c15a719"
      },
      "source": [
        "a <- as.integer(readline(prompt = 'Digite um número A: '))\n",
        "b <- as.integer(readline(prompt = 'Digite um numero B: '))\n",
        "print(a+b)"
      ],
      "execution_count": 7,
      "outputs": [
        {
          "output_type": "stream",
          "text": [
            "Digite um número A: 10\n",
            "Digite um numero B: 10\n",
            "[1] 20\n"
          ],
          "name": "stdout"
        }
      ]
    },
    {
      "cell_type": "markdown",
      "metadata": {
        "id": "35RwPIIF0w3i",
        "colab_type": "text"
      },
      "source": [
        "Crie um algoritmo em R que peça um número e então mostre a mensagem O número informado foi [número]."
      ]
    },
    {
      "cell_type": "code",
      "metadata": {
        "id": "NEFu-8L808HB",
        "colab_type": "code",
        "colab": {
          "base_uri": "https://localhost:8080/",
          "height": 51
        },
        "outputId": "1e7d1ef9-970c-44da-8e90-c279c811d74c"
      },
      "source": [
        "a <- as.integer(readline('Digite um número: '))\n",
        "print(paste('O número informado foi:',a))\n"
      ],
      "execution_count": 34,
      "outputs": [
        {
          "output_type": "stream",
          "text": [
            "Digite um número: 5\n",
            "[1] \"O número informado foi: 5\"\n"
          ],
          "name": "stdout"
        }
      ]
    },
    {
      "cell_type": "markdown",
      "metadata": {
        "id": "_OGQmoYA08bI",
        "colab_type": "text"
      },
      "source": [
        "Crie um algoritmo em R que converta metros para centímetros."
      ]
    },
    {
      "cell_type": "code",
      "metadata": {
        "id": "xxgmQ5j21Abx",
        "colab_type": "code",
        "colab": {
          "base_uri": "https://localhost:8080/",
          "height": 51
        },
        "outputId": "5b4fcc3a-29fa-4069-9151-f55c0c05cf80"
      },
      "source": [
        "m <- as.integer(readline('Digite um número: '))\n",
        "cm <- (m * 0.01) \n",
        "print(paste('Convertendo',m,'m para centimetros:',cm))"
      ],
      "execution_count": 62,
      "outputs": [
        {
          "output_type": "stream",
          "text": [
            "Digite um número: 20\n",
            "[1] \"Convertendo 20 m para centimetros: 0.2\"\n"
          ],
          "name": "stdout"
        }
      ]
    },
    {
      "cell_type": "markdown",
      "metadata": {
        "id": "kP9TOwKo1AnS",
        "colab_type": "text"
      },
      "source": [
        "Crie um algoritmo em Python que peça as 4 notas bimestrais e mostre a média."
      ]
    },
    {
      "cell_type": "code",
      "metadata": {
        "id": "Tj5xsjC-1D5I",
        "colab_type": "code",
        "colab": {
          "base_uri": "https://localhost:8080/",
          "height": 102
        },
        "outputId": "89231ade-37c9-4508-d1c4-65df2f3f2788"
      },
      "source": [
        "n1 <- as.numeric(readline(prompt = 'Digite um número: '))\n",
        "n2 <- as.numeric(readline(prompt = 'Digite outro número: '))\n",
        "n3 <- as.numeric(readline(prompt = 'Digite mais um número: '))\n",
        "n4 <- as.numeric(readline(prompt = 'Digite só mais um númeoro: '))\n",
        "media <- (n1 + n2 + n3 + n4) / 4\n",
        "print(paste('A sua média é:',format(media, digits = 2)))"
      ],
      "execution_count": 69,
      "outputs": [
        {
          "output_type": "stream",
          "text": [
            "Digite um número:8.5\n",
            "Digite outro número:9\n",
            "Digite mais um número: 7.5\n",
            "Digite só mais um númeoro: 10\n",
            "[1] \"A sua média é: 8.8\"\n"
          ],
          "name": "stdout"
        }
      ]
    },
    {
      "cell_type": "markdown",
      "metadata": {
        "id": "6vgD9pl81EGd",
        "colab_type": "text"
      },
      "source": [
        "Crie um algoritmo em R que peça o raio de um círculo, calcule e mostre sua área."
      ]
    },
    {
      "cell_type": "code",
      "metadata": {
        "id": "3h1VOEuR1KGz",
        "colab_type": "code",
        "colab": {
          "base_uri": "https://localhost:8080/",
          "height": 51
        },
        "outputId": "f72ecb04-d987-411f-d648-1d816e9e7b70"
      },
      "source": [
        "raio <- as.numeric(readline(prompt = 'Digite um número para ver o raio: '))\n",
        "pi <- 3.14159\n",
        "area <- raio ** 2 * pi\n",
        "print(paste('A o raio do circulo é:',area))"
      ],
      "execution_count": 71,
      "outputs": [
        {
          "output_type": "stream",
          "text": [
            "Digite um número para ver o raio: 20\n",
            "[1] \"A o raio do circulo é: 1256.636\"\n"
          ],
          "name": "stdout"
        }
      ]
    },
    {
      "cell_type": "markdown",
      "metadata": {
        "id": "QXhvPnMQ1Kd6",
        "colab_type": "text"
      },
      "source": [
        "Crie um algoritmo em R que calcule a área de um quadrado, em seguida mostre o dobro desta área para o usuário."
      ]
    },
    {
      "cell_type": "code",
      "metadata": {
        "id": "ywZkuhmt1N7l",
        "colab_type": "code",
        "colab": {
          "base_uri": "https://localhost:8080/",
          "height": 51
        },
        "outputId": "6c5b8dfd-d3d3-4853-d37f-312b51025db5"
      },
      "source": [
        "num <- as.integer(readline(prompt = 'Digite um número: '))\n",
        "quadrado <- num ** 2\n",
        "print(paste('A área do quadrado é:',quadrado))"
      ],
      "execution_count": 73,
      "outputs": [
        {
          "output_type": "stream",
          "text": [
            "Digite um número: 5\n",
            "[1] \"A área do quadrado é: 25\"\n"
          ],
          "name": "stdout"
        }
      ]
    },
    {
      "cell_type": "markdown",
      "metadata": {
        "id": "F-rpjggB1T5G",
        "colab_type": "text"
      },
      "source": [
        "Crie um algoritmo em R que pergunte quanto você ganha por hora e o número de horas trabalhadas no mês. Calcule e mostre o total do seu salário no referido mês.\n"
      ]
    },
    {
      "cell_type": "code",
      "metadata": {
        "id": "nvMchfOZ2_vC",
        "colab_type": "code",
        "colab": {
          "base_uri": "https://localhost:8080/",
          "height": 68
        },
        "outputId": "11075e68-7b1b-40ce-b316-be61845c6b26"
      },
      "source": [
        "money <- as.integer(readline(prompt = 'Quanto você ganha por hora: '))\n",
        "horas <- as.integer(readline(prompt = 'Quantas horas você trabalha por mês: '))\n",
        "total <- money * horas\n",
        "print(paste('Você ganha por mês:',total))"
      ],
      "execution_count": 90,
      "outputs": [
        {
          "output_type": "stream",
          "text": [
            "Quanto você ganha por hora: 4.80\n",
            "Quantas horas você trabalha por mês: 220\n",
            "[1] \"Você ganha por mês: 880\"\n"
          ],
          "name": "stdout"
        }
      ]
    },
    {
      "cell_type": "markdown",
      "metadata": {
        "id": "C-H4OWh03DFn",
        "colab_type": "text"
      },
      "source": [
        "Crie um algoritmo em R que peça a temperatura em graus Farenheit, transforme e mostre a temperatura em graus Celsius.\n",
        "C = (5 * (F-32) / 9)."
      ]
    },
    {
      "cell_type": "code",
      "metadata": {
        "id": "vs5qFAKx3Eyi",
        "colab_type": "code",
        "colab": {
          "base_uri": "https://localhost:8080/",
          "height": 51
        },
        "outputId": "d59047d0-db35-4b89-bd46-c5c0cfa31b89"
      },
      "source": [
        "f <- as.numeric(readline(prompt = 'Digite a temperatura em Farenheit: '))\n",
        "c <- (5*(f-32)/9)\n",
        "print(paste('A temperatura convertida de Farenheit para graus Celcius é:',c))"
      ],
      "execution_count": 92,
      "outputs": [
        {
          "output_type": "stream",
          "text": [
            "Digite a temperatura em Farenheit: 5\n",
            "[1] \"A temperatura convertida de Farenheit para graus Celcius é: -15\"\n"
          ],
          "name": "stdout"
        }
      ]
    },
    {
      "cell_type": "markdown",
      "metadata": {
        "id": "PGccudSo3E54",
        "colab_type": "text"
      },
      "source": [
        "Crie um algoritmo em R que peça a temperatura em graus Celsius, transforme e mostre em graus Farenheit."
      ]
    },
    {
      "cell_type": "code",
      "metadata": {
        "id": "_zfLyopV3IqV",
        "colab_type": "code",
        "colab": {
          "base_uri": "https://localhost:8080/",
          "height": 51
        },
        "outputId": "90d121af-3199-4307-c11e-2d31b8f04393"
      },
      "source": [
        "c <- as.numeric(readline(prompt = 'Digite a temperatura em Celcius: '))\n",
        "f <- (c*9/5) + 32\n",
        "print(paste('A temperatura convertida de Celcius para graus Farenheit é:',f))"
      ],
      "execution_count": 93,
      "outputs": [
        {
          "output_type": "stream",
          "text": [
            "Digite a temperatura em Celcius: 10\n",
            "[1] \"A temperatura convertida de Celcius para graus Farenheit é: 50\"\n"
          ],
          "name": "stdout"
        }
      ]
    },
    {
      "cell_type": "markdown",
      "metadata": {
        "id": "bu3Zyati3Iwc",
        "colab_type": "text"
      },
      "source": [
        "Crie um algoritmo em R que peça 2 números inteiros e um número real. Calcule e mostre:\n",
        "* a soma do dobro do primeiro com metade do segundo .\n",
        "* a soma do triplo do primeiro com o terceiro.\n",
        "* o terceiro elevado ao cubo."
      ]
    },
    {
      "cell_type": "code",
      "metadata": {
        "id": "Peo4D5Sz3PDC",
        "colab_type": "code",
        "colab": {
          "base_uri": "https://localhost:8080/",
          "height": 119
        },
        "outputId": "d65108ff-c9e3-420a-8544-3b60fa3f3900"
      },
      "source": [
        "n1 <- as.integer(readline(prompt = 'Digite um numero inteiro: '))\n",
        "n2 <- as.integer(readline(prompt = 'Digite outro número inteiro: '))\n",
        "n3 <- as.integer(readline(prompt = 'Digite um numero flutuante: '))\n",
        "p1 <- n1 * 2 * (n2/2)\n",
        "p2 <- n1 * 3 + n3\n",
        "p3 <- n3 ** 3\n",
        "print(paste('A soma do dobro do primeiro com metade do segundo é',p1))\n",
        "print(paste('A soma do triplo do primeiro com o terceiro é',p2))\n",
        "print(paste('O terceiro elevado ao cubo',p3))"
      ],
      "execution_count": 94,
      "outputs": [
        {
          "output_type": "stream",
          "text": [
            "Digite um numero inteiro: 10\n",
            "Digite outro número inteiro: 15\n",
            "Digite um numero flutuante: 2.75\n",
            "[1] \"A soma do dobro do primeiro com metade do segundo é 150\"\n",
            "[1] \"A soma do triplo do primeiro com o terceiro é 32\"\n",
            "[1] \"O terceiro elevado ao cubo 8\"\n"
          ],
          "name": "stdout"
        }
      ]
    }
  ]
}